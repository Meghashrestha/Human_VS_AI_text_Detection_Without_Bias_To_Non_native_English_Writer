{
 "cells": [
  {
   "cell_type": "code",
   "execution_count": 1,
   "id": "568bb9b5-9532-46e8-b37d-cbfd644eb075",
   "metadata": {},
   "outputs": [],
   "source": [
    "import pandas as pd\n"
   ]
  },
  {
   "cell_type": "code",
   "execution_count": 2,
   "id": "72ee4935-98d7-4b6a-908c-973c56ef96be",
   "metadata": {},
   "outputs": [
    {
     "name": "stdout",
     "output_type": "stream",
     "text": [
      "First 5 rows of the DataFrame:\n",
      "                                               Essay  Label\n",
      "0  Why do you think people attend college  or uni...      0\n",
      "1  Do you agree or disagree with  the following s...      0\n",
      "2  Nowadays, food has become easier to pr epare. ...      0\n",
      "3  It has been said, “Not everyt hing that is  le...      0\n",
      "4  A comp any has announced that it wishes  to bu...      0\n",
      "Essay    object\n",
      "Label     int64\n",
      "dtype: object\n",
      "\n",
      "Basic statistics summary:\n",
      "            Label\n",
      "count  685.000000\n",
      "mean     0.372263\n",
      "std      0.483761\n",
      "min      0.000000\n",
      "25%      0.000000\n",
      "50%      0.000000\n",
      "75%      1.000000\n",
      "max      1.000000\n"
     ]
    }
   ],
   "source": [
    "file_path = 'Dataset/sample_dataset.csv'\n",
    "df = pd.read_csv(file_path)\n",
    "print(df.head())\n",
    "\n",
    "print(df.dtypes)\n",
    "\n",
    "print(\"\\nBasic statistics summary:\")\n",
    "print(df.describe())"
   ]
  },
  {
   "cell_type": "code",
   "execution_count": null,
   "id": "ea770106-2556-4499-9ee7-401d1688ee3d",
   "metadata": {},
   "outputs": [],
   "source": []
  }
 ],
 "metadata": {
  "kernelspec": {
   "display_name": "Python 3 (ipykernel)",
   "language": "python",
   "name": "python3"
  },
  "language_info": {
   "codemirror_mode": {
    "name": "ipython",
    "version": 3
   },
   "file_extension": ".py",
   "mimetype": "text/x-python",
   "name": "python",
   "nbconvert_exporter": "python",
   "pygments_lexer": "ipython3",
   "version": "3.11.8"
  }
 },
 "nbformat": 4,
 "nbformat_minor": 5
}
